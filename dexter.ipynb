{
 "cells": [
  {
   "cell_type": "code",
   "execution_count": 1,
   "id": "1ae5f8f3-b8fb-4882-b148-349dcbc53f10",
   "metadata": {},
   "outputs": [
    {
     "name": "stdin",
     "output_type": "stream",
     "text": [
      "Enter the number : 2\n"
     ]
    },
    {
     "name": "stdout",
     "output_type": "stream",
     "text": [
      "The number is positive\n",
      "But its less than or equal to 10\n"
     ]
    }
   ],
   "source": [
    "num = int(input(\"Enter the number :\"))\n",
    "if num>0:\n",
    "    print(\"The number is positive\")\n",
    "    if(num > 10):\n",
    "        print(\"Number is greater the 10\")\n",
    "    else:\n",
    "        print(\"But its less than or equal to 10\")\n",
    "elif (num<0):\n",
    "    print(\"The number is negative\")\n",
    "else:\n",
    "    print(\"The number is zero\")\n",
    "    \n"
   ]
  },
  {
   "cell_type": "code",
   "execution_count": 7,
   "id": "054dbe33-0f4a-44d4-b4e5-867d67aa8072",
   "metadata": {},
   "outputs": [
    {
     "name": "stdout",
     "output_type": "stream",
     "text": [
      "Excellent\n"
     ]
    }
   ],
   "source": [
    "lab=\"pass\"\n",
    "theory=90\n",
    "if(lab==\"pass\"):\n",
    "    if(theory < 80):\n",
    "        print(\"Good\")\n",
    "    if(theory>=80):\n",
    "        print(\"Excellent\")\n",
    "    \n",
    "    "
   ]
  },
  {
   "cell_type": "code",
   "execution_count": 18,
   "id": "61549dfa-6da3-4cc3-978d-7a5cdeba846e",
   "metadata": {},
   "outputs": [
    {
     "name": "stdout",
     "output_type": "stream",
     "text": [
      "hello,worldhello,world\n"
     ]
    }
   ],
   "source": [
    "s=\"hello,world\"\n",
    "print(s*2)"
   ]
  },
  {
   "cell_type": "code",
   "execution_count": 25,
   "id": "5c9d856a-292c-4db6-990f-8e23e4122e73",
   "metadata": {},
   "outputs": [
    {
     "name": "stdout",
     "output_type": "stream",
     "text": [
      "Let it be\n",
      "Let it be\n",
      "Let it be\n",
      "Let it be\n",
      "Whisper words of wisdom\n",
      "Let it be\n",
      "\n",
      "I can feel your halo halo halo \n",
      "I can see yourhalo halo halo \n",
      "I can feel your halo halo halo \n",
      "I can see yourhalo halo halo \n"
     ]
    }
   ],
   "source": [
    "a=\"Let it be\\n\"*4+\"Whisper words of wisdom\\nLet it be\\n\"\n",
    "b=(\"\\nI can feel your \"+ \"halo \"*3+\"\\nI can see your\"+ \"halo \"*3)*2\n",
    "print(a+b)"
   ]
  },
  {
   "cell_type": "code",
   "execution_count": 27,
   "id": "ad37e5fe-98c7-4a78-a3aa-f4ac9e109c27",
   "metadata": {},
   "outputs": [
    {
     "name": "stdout",
     "output_type": "stream",
     "text": [
      "That's the way uh huh uh huh I like it uh huh uh huh\n",
      "That's the way uh huh uh huh I like it uh huh uh huh\n",
      "That's the way uh huh uh huh I like it uh huh uh huh\n",
      "That's the way uh huh uh huh I like it uh huh uh huh\n",
      "That's the way uh huh uh huh I like it uh huh uh huh\n"
     ]
    }
   ],
   "source": [
    "u = \" uh huh\" * 2\n",
    "s = \"That's the way\" + u + \" I like it\" + u + \"\\n\"\n",
    "for _ in range(5): \n",
    "  print(s, end=\"\")"
   ]
  },
  {
   "cell_type": "code",
   "execution_count": 33,
   "id": "2707e7dc-f6ec-476c-a324-454c57bb7dc4",
   "metadata": {},
   "outputs": [
    {
     "name": "stdout",
     "output_type": "stream",
     "text": [
      "bokeper\n"
     ]
    }
   ],
   "source": [
    "s=\"bookkeeper\"\n",
    "result=\"\"\n",
    "if s:\n",
    "    result+=s[0]\n",
    "    for i in range(1,len(s)):\n",
    "        if s[i]!=s[i-1]:\n",
    "            result+=s[i]\n",
    "print(result)"
   ]
  },
  {
   "cell_type": "code",
   "execution_count": 57,
   "id": "8daa0c6a-c4e1-4914-b12e-9b7ff6c0be71",
   "metadata": {},
   "outputs": [
    {
     "name": "stdout",
     "output_type": "stream",
     "text": [
      "ZYXWVUTSRQPONMLKJIHGFEDCBA\n"
     ]
    }
   ],
   "source": [
    "s=\"ABCDEFGHIJKLMNOPQRSTUVWXYZ\"\n",
    "print(s[::-1])\n"
   ]
  },
  {
   "cell_type": "code",
   "execution_count": 73,
   "id": "23265ef1-8bea-4fc0-926e-01e17a3fbb85",
   "metadata": {},
   "outputs": [
    {
     "name": "stdin",
     "output_type": "stream",
     "text": [
      " khokho\n"
     ]
    },
    {
     "name": "stdout",
     "output_type": "stream",
     "text": [
      "It is neither a palindrome nor a symmetric\n"
     ]
    }
   ],
   "source": [
    "s = input()\n",
    "t = s\n",
    "if t == s[::-1] and t[0] == s[-1]:\n",
    "    print(\"It is palindrome and symmetric\")\n",
    "elif t[0] == s[-1]:\n",
    "    print(\"Symmetric\")\n",
    "elif t == s[::-1]:\n",
    "    print(\"Palindrome\")\n",
    "else:\n",
    "    print(\"It is neither a palindrome nor a symmetric\")\n",
    "\n"
   ]
  },
  {
   "cell_type": "code",
   "execution_count": 5,
   "id": "577c4874-89f9-4266-90a4-3bf10269a3cc",
   "metadata": {},
   "outputs": [
    {
     "name": "stdout",
     "output_type": "stream",
     "text": [
      "Hello geeks\n",
      "hello GeeksforGeeks\n",
      "11\n"
     ]
    }
   ],
   "source": [
    "s= \"hello geeks\"\n",
    "s1=\"H\" + s[1:]\n",
    "s2=s.replace(\"geeks\",\"GeeksforGeeks\")\n",
    "print(s1)\n",
    "print(s2)\n",
    "print(len(s))"
   ]
  },
  {
   "cell_type": "code",
   "execution_count": 1,
   "id": "348826c1-f777-4f32-8207-aca436ab28da",
   "metadata": {},
   "outputs": [
    {
     "name": "stdout",
     "output_type": "stream",
     "text": [
      "output of the first read:\n",
      "india is my country and all indians are my brothers and sisters. i love my country and i am proud of its rich and vary heritage.\n",
      "i shall always strive to be worthy of it.\n",
      "i shall give respect.\n",
      "output of the second read:\n",
      "\n",
      "output of the third read:\n",
      "\n"
     ]
    }
   ],
   "source": [
    "myfile=open(\"sample.txt\",\"r\")\n",
    "str1=myfile.read()\n",
    "str2=myfile.read(5)\n",
    "str3=myfile.read(10)\n",
    "print(\"output of the first read:\")\n",
    "print(str1)\n",
    "print(\"output of the second read:\")\n",
    "print(str2)\n",
    "print(\"output of the third read:\")\n",
    "print(str3)"
   ]
  },
  {
   "cell_type": "code",
   "execution_count": 3,
   "id": "f045bed8-90d6-4f26-8c64-54203548a99b",
   "metadata": {},
   "outputs": [
    {
     "name": "stdout",
     "output_type": "stream",
     "text": [
      "india is my country and all indians are my brothers and sisters. i love my country and i am proud of its rich and vary heritage.\n",
      "i shall always strive to be worthy of it.\n",
      "i shall gi\n"
     ]
    }
   ],
   "source": [
    "myfile=open(\"sample.txt\",\"r\")\n",
    "l1=myfile.readline()\n",
    "l2=myfile.readline()\n",
    "l3=myfile.readline(10)\n",
    "print(l1,end='')\n",
    "print(l2,end='')\n",
    "print(l3)"
   ]
  },
  {
   "cell_type": "code",
   "execution_count": 5,
   "id": "3954a8ab-6806-40e5-a028-4104d685fbfb",
   "metadata": {},
   "outputs": [
    {
     "name": "stdout",
     "output_type": "stream",
     "text": [
      "india is my country and all indians are my brothers and sisters. i love my country and i am proud of its rich and vary heritage.\n",
      "i shall always strive to be worthy of it.\n",
      "i shall give respect."
     ]
    }
   ],
   "source": [
    "myfile=open(\"sample.txt\",\"r\")\n",
    "str=\" \"\n",
    "while str:\n",
    "    str=myfile.readline()\n",
    "    print(str,end='')\n",
    "myfile.close()"
   ]
  },
  {
   "cell_type": "code",
   "execution_count": 3,
   "id": "103e32db-a468-41d3-add0-8f24385dae09",
   "metadata": {},
   "outputs": [
    {
     "name": "stdout",
     "output_type": "stream",
     "text": [
      "File content copied successfully!\n"
     ]
    }
   ],
   "source": [
    "def copy_file_content(source_file, destination_file):\n",
    "    with open(source_file, 'r') as source:\n",
    "        content = source.read()\n",
    "    with open(destination_file, 'w') as destination:\n",
    "        destination.write(content)\n",
    "\n",
    "\n",
    "source_path = 'sample.txt'\n",
    "destination_path = 'dest.txt'\n",
    "copy_file_content(source_path, destination_path)\n",
    "print(\"File content copied successfully!\")\n"
   ]
  },
  {
   "cell_type": "code",
   "execution_count": 21,
   "id": "b11f0772-742e-4938-8ba2-51de82f15ed9",
   "metadata": {},
   "outputs": [
    {
     "name": "stdout",
     "output_type": "stream",
     "text": [
      "india is my country and all indians are my brothers and sisters. i love my country and i am proud of its rich and vary heritage.\n",
      "\n",
      "i shall give respect.\n"
     ]
    }
   ],
   "source": [
    "myfile=open(\"sample.txt\",\"r\")\n",
    "l1= myfile.readlines()\n",
    "print(l1[0])\n",
    "print(l1[len(l1)-1])"
   ]
  },
  {
   "cell_type": "code",
   "execution_count": null,
   "id": "681f075f-91c9-43bf-b65e-482bf8085a4f",
   "metadata": {},
   "outputs": [],
   "source": []
  },
  {
   "cell_type": "code",
   "execution_count": 24,
   "id": "826d1d54-39b9-45a7-923e-e4134820cb35",
   "metadata": {},
   "outputs": [
    {
     "name": "stdout",
     "output_type": "stream",
     "text": [
      "['hello', 'world', 'hsppy', 'morning']\n"
     ]
    }
   ],
   "source": [
    "h=\"hello world hsppy morning\"\n",
    "l=h.split()\n",
    "print(l)"
   ]
  },
  {
   "cell_type": "code",
   "execution_count": 26,
   "id": "fe85ce9b-d05f-437c-9dec-10778fa59472",
   "metadata": {},
   "outputs": [
    {
     "name": "stdout",
     "output_type": "stream",
     "text": [
      "original list: ['math', 'science', 'history', 'English', 'Art']\n",
      "modified list ['math', 'physics', 'Geography', 'literature', 'Art']\n"
     ]
    }
   ],
   "source": [
    "sub=[\"math\",\"science\",\"history\",\"English\",\"Art\"]\n",
    "print(\"original list:\",sub)\n",
    "sub[1:4]=[\"physics\",\"Geography\",\"literature\"]\n",
    "print(\"modified list\",sub)"
   ]
  },
  {
   "cell_type": "code",
   "execution_count": 3,
   "id": "c7b25bc1-3bad-479e-a294-e75e5f646a18",
   "metadata": {},
   "outputs": [
    {
     "name": "stdout",
     "output_type": "stream",
     "text": [
      "original list : [10, 20, 30, 40, 50]\n",
      "Modified list :  [10, 25, 30, 40, 50]\n"
     ]
    }
   ],
   "source": [
    "my_list=[10,20,30,40,50]\n",
    "print(\"original list :\",my_list)\n",
    "my_list[1]=25\n",
    "print(\"Modified list : \",my_list)"
   ]
  },
  {
   "cell_type": "code",
   "execution_count": 5,
   "id": "82797e4f-2e8d-4cdf-8333-fb4dc3620f75",
   "metadata": {},
   "outputs": [
    {
     "name": "stdout",
     "output_type": "stream",
     "text": [
      "['math', 'physics', 'english', 'art']\n"
     ]
    }
   ],
   "source": [
    "subject=[\"math\",\"science\",\"hitory\",\"english\",\"art\"]\n",
    "subject[1:3]=[\"physics\"]\n",
    "print(subject)"
   ]
  },
  {
   "cell_type": "code",
   "execution_count": 15,
   "id": "b6def302-51db-4c9f-b2f3-bf1380ca0e90",
   "metadata": {},
   "outputs": [
    {
     "name": "stdout",
     "output_type": "stream",
     "text": [
      "list : [5, 2, 3, 4, 1]\n",
      "5\n",
      "yes present:\n",
      "reverse list : [1, 4, 3, 2, 5]\n"
     ]
    },
    {
     "ename": "TypeError",
     "evalue": "list.count() takes exactly one argument (0 given)",
     "output_type": "error",
     "traceback": [
      "\u001b[1;31m---------------------------------------------------------------------------\u001b[0m",
      "\u001b[1;31mTypeError\u001b[0m                                 Traceback (most recent call last)",
      "Cell \u001b[1;32mIn[15], line 10\u001b[0m\n\u001b[0;32m      8\u001b[0m     \u001b[38;5;28mprint\u001b[39m(\u001b[38;5;124m\"\u001b[39m\u001b[38;5;124myes present:\u001b[39m\u001b[38;5;124m\"\u001b[39m)\n\u001b[0;32m      9\u001b[0m \u001b[38;5;28mprint\u001b[39m(\u001b[38;5;124m\"\u001b[39m\u001b[38;5;124mreverse list :\u001b[39m\u001b[38;5;124m\"\u001b[39m,a[::\u001b[38;5;241m-\u001b[39m\u001b[38;5;241m1\u001b[39m])\n\u001b[1;32m---> 10\u001b[0m \u001b[38;5;28mprint\u001b[39m(\u001b[38;5;28mlist\u001b[39m\u001b[38;5;241m.\u001b[39mcount(a))\n",
      "\u001b[1;31mTypeError\u001b[0m: list.count() takes exactly one argument (0 given)"
     ]
    }
   ],
   "source": [
    "a=[1,2,3,4,5]\n",
    "b=a[-1]\n",
    "a[-1]=a[0]\n",
    "a[0]=b\n",
    "print(\"list :\",a[:])\n",
    "print(len(a))\n",
    "if 3 in a:\n",
    "    print(\"yes present:\")\n",
    "print(\"reverse list :\",a[::-1])\n",
    "if i in"
   ]
  },
  {
   "cell_type": "code",
   "execution_count": 3,
   "id": "e304489b-a0b0-490a-b889-fa9a27d9cb63",
   "metadata": {},
   "outputs": [],
   "source": [
    "import tkinter as tk\n",
    "from tkinter import ttk, messagebox\n",
    "\n",
    "# Conversion logic\n",
    "conversion_factors = {\n",
    "    'Length': {\n",
    "        'meters': 1.0,\n",
    "        'kilometers': 0.001,\n",
    "        'miles': 0.000621371,\n",
    "        'feet': 3.28084\n",
    "    },\n",
    "    'Weight': {\n",
    "        'grams': 1.0,\n",
    "        'kilograms': 0.001,\n",
    "        'pounds': 0.00220462,\n",
    "        'ounces': 0.035274\n",
    "    },\n",
    "    'Temperature': {\n",
    "        'Celsius': 'C',\n",
    "        'Fahrenheit': 'F',\n",
    "        'Kelvin': 'K'\n",
    "    }\n",
    "}\n",
    "\n",
    "def convert_temperature(value, from_unit, to_unit):\n",
    "    if from_unit == to_unit:\n",
    "        return value\n",
    "    if from_unit == 'Fahrenheit':\n",
    "        value = (value - 32) * 5 / 9\n",
    "    elif from_unit == 'Kelvin':\n",
    "        value -= 273.15\n",
    "    if to_unit == 'Fahrenheit':\n",
    "        return (value * 9 / 5) + 32\n",
    "    elif to_unit == 'Kelvin':\n",
    "        return value + 273.15\n",
    "    return value\n",
    "\n",
    "def convert():\n",
    "    try:\n",
    "        category = category_var.get()\n",
    "        value = float(entry.get())\n",
    "        from_unit = from_var.get()\n",
    "        to_unit = to_var.get()\n",
    "\n",
    "        if category == \"Temperature\":\n",
    "            result = convert_temperature(value, from_unit, to_unit)\n",
    "        else:\n",
    "            base = value / conversion_factors[category][from_unit]\n",
    "            result = base * conversion_factors[category][to_unit]\n",
    "\n",
    "        result_label.config(text=f\"{value} {from_unit} = {result:.4f} {to_unit}\")\n",
    "    except Exception:\n",
    "        messagebox.showerror(\"Error\", \"Please enter a valid number.\")\n",
    "\n",
    "def update_units(event=None):\n",
    "    category = category_var.get()\n",
    "    units = list(conversion_factors[category].keys())\n",
    "    from_menu['values'] = units\n",
    "    to_menu['values'] = units\n",
    "    from_var.set(units[0])\n",
    "    to_var.set(units[1])\n",
    "\n",
    "# GUI Setup\n",
    "root = tk.Tk()\n",
    "root.title(\"✨ Stylish Unit Converter\")\n",
    "root.geometry(\"600x500\")\n",
    "root.resizable(False, False)\n",
    "root.configure(bg=\"#f4f4f4\")\n",
    "\n",
    "# Fonts\n",
    "TITLE_FONT = (\"Helvetica\", 26, \"bold\")\n",
    "LABEL_FONT = (\"Helvetica\", 16, \"bold\")\n",
    "ENTRY_FONT = (\"Helvetica\", 16)\n",
    "RESULT_FONT = (\"Helvetica\", 18, \"bold italic\")\n",
    "\n",
    "# Centering Frame\n",
    "main_frame = ttk.Frame(root, padding=30)\n",
    "main_frame.place(relx=0.5, rely=0.5, anchor=\"center\")\n",
    "\n",
    "# Style\n",
    "style = ttk.Style()\n",
    "style.theme_use(\"clam\")\n",
    "style.configure(\"TLabel\", font=LABEL_FONT, background=\"#f4f4f4\")\n",
    "style.configure(\"TButton\", font=LABEL_FONT)\n",
    "style.configure(\"TCombobox\", font=ENTRY_FONT)\n",
    "\n",
    "# Widgets\n",
    "ttk.Label(main_frame, text=\"🧮 Unit Converter\", font=TITLE_FONT).grid(row=0, column=0, columnspan=2, pady=20)\n",
    "\n",
    "ttk.Label(main_frame, text=\"Select Category:\").grid(row=1, column=0, sticky=\"e\", padx=10, pady=10)\n",
    "category_var = tk.StringVar()\n",
    "category_menu = ttk.Combobox(main_frame, textvariable=category_var, state=\"readonly\")\n",
    "category_menu['values'] = list(conversion_factors.keys())\n",
    "category_menu.grid(row=1, column=1, pady=10)\n",
    "category_menu.bind(\"<<ComboboxSelected>>\", update_units)\n",
    "\n",
    "ttk.Label(main_frame, text=\"Enter Value:\").grid(row=2, column=0, sticky=\"e\", padx=10, pady=10)\n",
    "entry = ttk.Entry(main_frame, font=ENTRY_FONT, width=15)\n",
    "entry.grid(row=2, column=1, pady=10)\n",
    "\n",
    "ttk.Label(main_frame, text=\"From Unit:\").grid(row=3, column=0, sticky=\"e\", padx=10, pady=10)\n",
    "from_var = tk.StringVar()\n",
    "from_menu = ttk.Combobox(main_frame, textvariable=from_var, state=\"readonly\")\n",
    "from_menu.grid(row=3, column=1, pady=10)\n",
    "\n",
    "ttk.Label(main_frame, text=\"To Unit:\").grid(row=4, column=0, sticky=\"e\", padx=10, pady=10)\n",
    "to_var = tk.StringVar()\n",
    "to_menu = ttk.Combobox(main_frame, textvariable=to_var, state=\"readonly\")\n",
    "to_menu.grid(row=4, column=1, pady=10)\n",
    "\n",
    "convert_btn = ttk.Button(main_frame, text=\"🔁 Convert\", command=convert)\n",
    "convert_btn.grid(row=5, column=0, columnspan=2, pady=20)\n",
    "\n",
    "result_label = ttk.Label(main_frame, text=\"\", font=RESULT_FONT, foreground=\"#0a58ca\")\n",
    "result_label.grid(row=6, column=0, columnspan=2, pady=10)\n",
    "\n",
    "# Default setup\n",
    "category_var.set('Length')\n",
    "update_units()\n",
    "\n",
    "root.mainloop()\n"
   ]
  },
  {
   "cell_type": "code",
   "execution_count": null,
   "id": "a9968930-757a-4fbc-b51a-608fc352b67c",
   "metadata": {},
   "outputs": [],
   "source": [
    "import tkinter as tk\n",
    "\n",
    "from tkinter import ttk, messagebox\n",
    "\n",
    "\n",
    "\n",
    "# Conversion logic\n",
    "\n",
    "conversion_factors = {\n",
    "\n",
    "    'Length': {\n",
    "\n",
    "        'meters': 1.0,\n",
    "\n",
    "        'kilometers': 0.001,\n",
    "\n",
    "        'miles': 0.000621371,\n",
    "\n",
    "        'feet': 3.28084\n",
    "\n",
    "    },\n",
    "\n",
    "    'Weight': {\n",
    "\n",
    "        'grams': 1.0,\n",
    "\n",
    "        'kilograms': 0.001,\n",
    "\n",
    "        'pounds': 0.00220462,\n",
    "\n",
    "        'ounces': 0.035274\n",
    "\n",
    "    },\n",
    "\n",
    "    'Temperature': {\n",
    "\n",
    "        'Celsius': 'C',\n",
    "\n",
    "        'Fahrenheit': 'F',\n",
    "\n",
    "        'Kelvin': 'K'\n",
    "\n",
    "    }\n",
    "\n",
    "}\n",
    "\n",
    "\n",
    "\n",
    "# Temperature conversion logic\n",
    "\n",
    "def convert_temperature(value, from_unit, to_unit):\n",
    "\n",
    "    valid_units = ['Celsius', 'Fahrenheit', 'Kelvin']\n",
    "\n",
    "    if from_unit not in valid_units or to_unit not in valid_units:\n",
    "\n",
    "        raise ValueError(\"Invalid temperature units\")\n",
    "\n",
    "\n",
    "\n",
    "    if from_unit == to_unit:\n",
    "\n",
    "        return value\n",
    "\n",
    "    if from_unit == 'Fahrenheit':\n",
    "\n",
    "        value = (value - 32) * 5 / 9\n",
    "\n",
    "    elif from_unit == 'Kelvin':\n",
    "\n",
    "        value -= 273.15\n",
    "\n",
    "    # Now in Celsius\n",
    "\n",
    "    if to_unit == 'Fahrenheit':\n",
    "\n",
    "        return (value * 9 / 5) + 32\n",
    "\n",
    "    elif to_unit == 'Kelvin':\n",
    "\n",
    "        return value + 273.15\n",
    "\n",
    "    return value\n",
    "\n",
    "\n",
    "\n",
    "# Perform conversion and display results\n",
    "\n",
    "def convert():\n",
    "\n",
    "    try:\n",
    "\n",
    "        category = category_var.get()\n",
    "\n",
    "        value = float(entry.get())\n",
    "\n",
    "        from_unit = from_var.get()\n",
    "\n",
    "        units = list(conversion_factors[category].keys())\n",
    "\n",
    "\n",
    "\n",
    "        result_text.config(state=\"normal\")\n",
    "\n",
    "        result_text.delete(\"1.0\", tk.END)\n",
    "\n",
    "\n",
    "\n",
    "        if category == \"Temperature\":\n",
    "\n",
    "            for unit in units:\n",
    "\n",
    "                result = convert_temperature(value, from_unit, unit)\n",
    "\n",
    "                result_text.insert(tk.END, f\"{value} {from_unit} = {result:.4f} {unit}\\n\")\n",
    "\n",
    "        else:\n",
    "\n",
    "            base = value / conversion_factors[category][from_unit]\n",
    "\n",
    "            for unit in units:\n",
    "\n",
    "                result = base * conversion_factors[category][unit]\n",
    "\n",
    "                result_text.insert(tk.END, f\"{value} {from_unit} = {result:.4f} {unit}\\n\")\n",
    "\n",
    "\n",
    "\n",
    "        result_text.config(state=\"disabled\")\n",
    "\n",
    "    except Exception:\n",
    "\n",
    "        messagebox.showerror(\"Error\", \"Please enter a valid number.\")\n",
    "\n",
    "\n",
    "\n",
    "# Update available units based on category\n",
    "\n",
    "def update_units(event=None):\n",
    "\n",
    "    category = category_var.get()\n",
    "\n",
    "    units = list(conversion_factors[category].keys())\n",
    "\n",
    "    from_menu['values'] = units\n",
    "\n",
    "    from_var.set(units[0])\n",
    "\n",
    "\n",
    "\n",
    "# GUI Setup\n",
    "\n",
    "root = tk.Tk()\n",
    "\n",
    "root.title(\"🔄 Unit Converter - All Options Display\")\n",
    "\n",
    "root.geometry(\"650x550\")\n",
    "\n",
    "root.resizable(False, False)\n",
    "\n",
    "root.configure(bg=\"#f4f4f4\")\n",
    "\n",
    "\n",
    "\n",
    "# Fonts\n",
    "\n",
    "TITLE_FONT = (\"Helvetica\", 26, \"bold\")\n",
    "\n",
    "LABEL_FONT = (\"Helvetica\", 16, \"bold\")\n",
    "\n",
    "ENTRY_FONT = (\"Helvetica\", 16)\n",
    "\n",
    "\n",
    "\n",
    "# Frame\n",
    "\n",
    "main_frame = ttk.Frame(root, padding=30)\n",
    "\n",
    "main_frame.place(relx=0.5, rely=0.5, anchor=\"center\")\n",
    "\n",
    "\n",
    "\n",
    "# Styles\n",
    "\n",
    "style = ttk.Style()\n",
    "\n",
    "style.theme_use(\"clam\")\n",
    "\n",
    "style.configure(\"TLabel\", font=LABEL_FONT, background=\"#f4f4f4\")\n",
    "\n",
    "style.configure(\"TButton\", font=LABEL_FONT)\n",
    "\n",
    "style.configure(\"TCombobox\", font=ENTRY_FONT)\n",
    "\n",
    "\n",
    "\n",
    "# Title\n",
    "\n",
    "ttk.Label(main_frame, text=\"🧮Advanced Unit Converter\", font=TITLE_FONT).grid(row=0, column=0, columnspan=2, pady=20)\n",
    "\n",
    "\n",
    "\n",
    "# Category\n",
    "\n",
    "ttk.Label(main_frame, text=\"Select Category:\").grid(row=1, column=0, sticky=\"e\", padx=10, pady=10)\n",
    "\n",
    "category_var = tk.StringVar()\n",
    "\n",
    "category_menu = ttk.Combobox(main_frame, textvariable=category_var, state=\"readonly\")\n",
    "\n",
    "category_menu['values'] = list(conversion_factors.keys())\n",
    "\n",
    "category_menu.grid(row=1, column=1, pady=10)\n",
    "\n",
    "category_menu.bind(\"<<ComboboxSelected>>\", update_units)\n",
    "# Entry\n",
    "ttk.Label(main_frame, text=\"Enter Value:\").grid(row=2, column=0, sticky=\"e\", padx=10, pady=10)\n",
    "entry = ttk.Entry(main_frame, font=ENTRY_FONT, width=15)\n",
    "entry.grid(row=2, column=1, pady=10)\n",
    "entry.bind(\"<Return>\", lambda event: convert())\n",
    "# From unit\n",
    "ttk.Label(main_frame, text=\"From Unit:\").grid(row=3, column=0, sticky=\"e\", padx=10, pady=10)\n",
    "from_var = tk.StringVar()\n",
    "from_menu = ttk.Combobox(main_frame, textvariable=from_var, state=\"readonly\")\n",
    "from_menu.grid(row=3, column=1, pady=10)\n",
    "# Result area\n",
    "ttk.Label(main_frame, text=\"Converted Values:\").grid(row=4, column=0, sticky=\"ne\", padx=10, pady=10)\n",
    "result_text = tk.Text(main_frame, height=10, width=40, font=(\"Helvetica\", 14))\n",
    "result_text.grid(row=4, column=1, pady=10)\n",
    "result_text.config(state=\"disabled\")\n",
    "# Convert Button\n",
    "convert_btn = ttk.Button(main_frame, text=\"🔁 Convert\", command=convert)\n",
    "convert_btn.grid(row=5, column=0, columnspan=2, pady=20)\n",
    "# Default setup\n",
    "category_var.set('Length')\n",
    "update_units()\n",
    "# Run the app\n",
    "\n",
    "root.mainloop()"
   ]
  },
  {
   "cell_type": "code",
   "execution_count": null,
   "id": "f5fd242c-34d4-41ca-9e80-1089d8a10644",
   "metadata": {},
   "outputs": [],
   "source": []
  }
 ],
 "metadata": {
  "kernelspec": {
   "display_name": "Python [conda env:base] *",
   "language": "python",
   "name": "conda-base-py"
  },
  "language_info": {
   "codemirror_mode": {
    "name": "ipython",
    "version": 3
   },
   "file_extension": ".py",
   "mimetype": "text/x-python",
   "name": "python",
   "nbconvert_exporter": "python",
   "pygments_lexer": "ipython3",
   "version": "3.12.7"
  }
 },
 "nbformat": 4,
 "nbformat_minor": 5
}
